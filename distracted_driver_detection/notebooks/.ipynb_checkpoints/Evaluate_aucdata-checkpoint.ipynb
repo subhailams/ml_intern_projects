{
 "cells": [
  {
   "cell_type": "code",
   "execution_count": null,
   "metadata": {},
   "outputs": [],
   "source": [
    "import os\n",
    "os.environ[\"CUDA_VISIBLE_DEVICES\"]=\"-1\"\n",
    "import random\n",
    "import numpy as np\n",
    "import pandas as pd \n",
    "import matplotlib.pyplot as plt\n",
    "import cv2\n",
    "from sklearn.model_selection import train_test_split\n",
    "import warnings\n",
    "warnings.filterwarnings(\"ignore\")\n",
    "\n",
    "\n",
    "from tensorflow.keras.models import Sequential\n",
    "from tensorflow.keras.layers import Dense, Dropout, Flatten\n",
    "from tensorflow.keras.layers import Conv2D, MaxPooling2D\n",
    "from tensorflow.keras.utils import to_categorical\n",
    "from tensorflow.keras import optimizers\n",
    "from tensorflow.keras.models import Model,model_from_json"
   ]
  },
  {
   "cell_type": "code",
   "execution_count": null,
   "metadata": {},
   "outputs": [],
   "source": [
    "\n",
    "train_image = []\n",
    "\n",
    "for i in range(8):\n",
    "    print('now we are in the folder C',i)\n",
    "    imgs = os.listdir(\"../statefarm_dataset/train/c\"+str(i))\n",
    "    for j in range(len(imgs)):\n",
    "        img_name = \"../statefarm_dataset/train/c\"+str(i)+\"/\"+imgs[j]\n",
    "        img = cv2.imread(img_name)\n",
    "        img = cv2.resize(img,(224,224))\n",
    "        label = i\n",
    "        train_image.append([img,label])\n",
    "#         plt.imshow(img)"
   ]
  },
  {
   "cell_type": "code",
   "execution_count": null,
   "metadata": {},
   "outputs": [],
   "source": [
    "import random\n",
    "random.shuffle(train_image)"
   ]
  },
  {
   "cell_type": "code",
   "execution_count": null,
   "metadata": {},
   "outputs": [],
   "source": [
    "\n",
    "X_test = []\n",
    "y_test = []\n",
    "\n",
    "\n",
    "for features,labels in train_image:\n",
    "        X_test.append(features)\n",
    "        y_test.append(labels)\n",
    "\n",
    "\n",
    "print (len(X_test),len(y_test))"
   ]
  },
  {
   "cell_type": "code",
   "execution_count": null,
   "metadata": {},
   "outputs": [],
   "source": [
    "\n",
    "with open('models/mobilenetv2_1.4_moreaugs.json','r') as f:\n",
    "    model = model_from_json(f.read())\n",
    "\n",
    "model.load_weights('models/mobilenetv2_1.4_moreaugs_2.hdf5')\n",
    "\n",
    "sgd = optimizers.SGD(lr = 0.005) # try 0.01 - didn't converge and 0.005 , 0.001 best acc of 11%\n",
    "\n",
    "model.compile(optimizer=sgd,loss='categorical_crossentropy',metrics=['accuracy'])\n",
    "model.summary()"
   ]
  },
  {
   "cell_type": "code",
   "execution_count": null,
   "metadata": {},
   "outputs": [],
   "source": [
    "predict_test = np.array(X_test).reshape(-1,224,224,3).astype('float32')\n",
    "prediction = model.predict(predict_test)\n",
    "print(prediction[0])\n",
    "\n",
    "tags = { \"C0\": \"safe driving\",\n",
    "\"C1\": \"texting - right\",\n",
    "\"C2\": \"talking on the phone - right\",\n",
    "\"C3\": \"texting - left\",\n",
    "\"C4\": \"talking on the phone - left\",\n",
    "\"C5\": \"operating the radio\",\n",
    "\"C6\": \"drinking\",\n",
    "\"C7\": \"reaching behind\",\n",
    "\"C8\": \"hair and makeup\",\n",
    "\"C9\": \"talking to passenger\" }\n",
    "\n"
   ]
  },
  {
   "cell_type": "code",
   "execution_count": null,
   "metadata": {},
   "outputs": [],
   "source": [
    "# labels is the image array\n",
    "i = 0\n",
    "# fig, ax = plt.subplots(20, 1, figsize = (100,100))\n",
    "yhat_classes = []\n",
    "for i in range(len(X_test)):\n",
    "#     ax[i].imshow(X_test[i])\n",
    "    predicted_class = np.argmax(prediction[i])\n",
    "    yhat_classes.append(predicted_class)\n",
    "    classes = 'C' + str(predicted_class)\n",
    "#     ax[i].set_title(tags[predicted_class])\n",
    "#     plt.show"
   ]
  },
  {
   "cell_type": "code",
   "execution_count": null,
   "metadata": {},
   "outputs": [],
   "source": [
    "from sklearn.metrics import accuracy_score\n",
    "from sklearn.metrics import precision_score\n",
    "from sklearn.metrics import recall_score\n",
    "from sklearn.metrics import confusion_matrix\n",
    "print(len(yhat_classes))\n",
    "\n",
    "accuracy = accuracy_score(y_test, yhat_classes)\n",
    "precision = precision_score(y_test, yhat_classes,average='weighted')\n",
    "recall = recall_score(y_test, yhat_classes,average='weighted')\n",
    "\n",
    "print(\"Accuracy: \",accuracy)\n",
    "print(\"Precision: \",precision)\n",
    "print(\"Recall: \",recall)"
   ]
  }
 ],
 "metadata": {
  "kernelspec": {
   "display_name": "Python [conda env:subhadms] *",
   "language": "python",
   "name": "conda-env-subhadms-py"
  },
  "language_info": {
   "codemirror_mode": {
    "name": "ipython",
    "version": 3
   },
   "file_extension": ".py",
   "mimetype": "text/x-python",
   "name": "python",
   "nbconvert_exporter": "python",
   "pygments_lexer": "ipython3",
   "version": "3.7.6"
  }
 },
 "nbformat": 4,
 "nbformat_minor": 4
}
